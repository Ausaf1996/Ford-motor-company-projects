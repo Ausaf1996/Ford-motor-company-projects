{
  "nbformat": 4,
  "nbformat_minor": 0,
  "metadata": {
    "colab": {
      "name": "Ford_supervided_NLP.ipynb",
      "provenance": [],
      "collapsed_sections": []
    },
    "kernelspec": {
      "display_name": "Python 3",
      "name": "python3"
    }
  },
  "cells": [
    {
      "cell_type": "code",
      "metadata": {
        "id": "N3jpTO94VSQY"
      },
      "source": [
        "%tensorflow_version 2.x\r\n",
        "import tensorflow as tf\r\n",
        "from tensorflow import keras\r\n",
        "import numpy as np\r\n",
        "import pandas as pd\r\n",
        "import matplotlib.pyplot as plt\r\n",
        "import seaborn as s\r\n",
        "import nltk"
      ],
      "execution_count": null,
      "outputs": []
    },
    {
      "cell_type": "code",
      "metadata": {
        "colab": {
          "resources": {
            "http://localhost:8080/nbextensions/google.colab/files.js": {
              "data": "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",
              "ok": true,
              "headers": [
                [
                  "content-type",
                  "application/javascript"
                ]
              ],
              "status": 200,
              "status_text": ""
            }
          },
          "base_uri": "https://localhost:8080/",
          "height": 73
        },
        "id": "gmd7YcgjWArx",
        "outputId": "e1903560-e719-4d9a-9194-c2d1c89c5a02"
      },
      "source": [
        "from google.colab import files\r\n",
        "uploaded = files.upload()\r\n",
        "import io\r\n",
        "data = pd.read_csv(io.BytesIO(uploaded['train.csv']))"
      ],
      "execution_count": null,
      "outputs": [
        {
          "output_type": "display_data",
          "data": {
            "text/html": [
              "\n",
              "     <input type=\"file\" id=\"files-238f30a8-02ec-400f-b545-eac611c3dcfa\" name=\"files[]\" multiple disabled\n",
              "        style=\"border:none\" />\n",
              "     <output id=\"result-238f30a8-02ec-400f-b545-eac611c3dcfa\">\n",
              "      Upload widget is only available when the cell has been executed in the\n",
              "      current browser session. Please rerun this cell to enable.\n",
              "      </output>\n",
              "      <script src=\"/nbextensions/google.colab/files.js\"></script> "
            ],
            "text/plain": [
              "<IPython.core.display.HTML object>"
            ]
          },
          "metadata": {
            "tags": []
          }
        },
        {
          "output_type": "stream",
          "text": [
            "Saving train.csv to train (1).csv\n"
          ],
          "name": "stdout"
        }
      ]
    },
    {
      "cell_type": "code",
      "metadata": {
        "id": "rz3LQYGzYomc"
      },
      "source": [
        "# keeping only the alphanumeric characters\r\n",
        "import re\r\n",
        "sentences = []\r\n",
        "for i in range(0,len(data)):\r\n",
        "    #x = re.sub(r'\\W+',\" \", data.text[i])\r\n",
        "    x = re.sub(r'[^a-zA-Z0-9]+',\" \", data.text[i])\r\n",
        "    #x = re.sub('\\S+[0-9]\\S+',\" \", x)\r\n",
        "    #x = re.sub('\\S+[0-9]',\" \", x)\r\n",
        "    #x = re.sub('[0-9]\\S+',\" \", x)\r\n",
        "    #x = re.sub(r'\\b\\w{1,2}\\b', '', x)\r\n",
        "    sentences.append(x)\r\n",
        "    "
      ],
      "execution_count": null,
      "outputs": []
    },
    {
      "cell_type": "code",
      "metadata": {
        "id": "PTLUYnu_Yopz"
      },
      "source": [
        "import spacy\r\n",
        "import en_core_web_sm\r\n",
        "nlp = en_core_web_sm.load()\r\n",
        "from nltk import sent_tokenize, word_tokenize, pos_tag"
      ],
      "execution_count": null,
      "outputs": []
    },
    {
      "cell_type": "code",
      "metadata": {
        "colab": {
          "base_uri": "https://localhost:8080/"
        },
        "id": "I4VvJCI-Yos2",
        "outputId": "430623ea-dd23-4f14-8402-2f6465badac9"
      },
      "source": [
        "# keeping those words which are in english dictionary \r\n",
        "nltk.download('words')\r\n",
        "words = set(nltk.corpus.words.words())\r\n",
        "for i in range(0,len(sentences)):\r\n",
        "    sentences[i] = \" \".join(w for w in nltk.wordpunct_tokenize(sentences[i]) if w.lower() in words or not w.isalpha())"
      ],
      "execution_count": null,
      "outputs": [
        {
          "output_type": "stream",
          "text": [
            "[nltk_data] Downloading package words to /root/nltk_data...\n",
            "[nltk_data]   Package words is already up-to-date!\n"
          ],
          "name": "stdout"
        }
      ]
    },
    {
      "cell_type": "code",
      "metadata": {
        "colab": {
          "base_uri": "https://localhost:8080/"
        },
        "id": "C1D70IK9Yovh",
        "outputId": "33a3577f-480d-4863-ec88-61540c2867cf"
      },
      "source": [
        "'''# filtering all sentences using for loop\r\n",
        "nltk.download('punkt')\r\n",
        "nltk.download('averaged_perceptron_tagger')\r\n",
        "collection = [] \r\n",
        "for i in range(0,len(sentences)):   \r\n",
        "    # using spacy\r\n",
        "    doc = nlp(sentences[i].lower())\r\n",
        "    store = []\r\n",
        "    for nounchunks in doc.noun_chunks:\r\n",
        "        store = store+list(nounchunks)\r\n",
        "    store = str(store).replace(',',' ')\r\n",
        "    store = store[1:-1]\r\n",
        "\r\n",
        "    # using nltk pos tag\r\n",
        "    word1 = word_tokenize(store)\r\n",
        "    store = pos_tag(word1)\r\n",
        "    store = list(filter(lambda x: x[1][0:2] == 'NN', store))\r\n",
        "    try:\r\n",
        "        store = list(list(zip(*store))[0])\r\n",
        "    except:\r\n",
        "        pass\r\n",
        "    store = ' '.join(store)\r\n",
        "    collection.append(store)'''"
      ],
      "execution_count": null,
      "outputs": [
        {
          "output_type": "stream",
          "text": [
            "[nltk_data] Downloading package punkt to /root/nltk_data...\n",
            "[nltk_data]   Package punkt is already up-to-date!\n",
            "[nltk_data] Downloading package averaged_perceptron_tagger to\n",
            "[nltk_data]     /root/nltk_data...\n",
            "[nltk_data]   Package averaged_perceptron_tagger is already up-to-\n",
            "[nltk_data]       date!\n"
          ],
          "name": "stdout"
        }
      ]
    },
    {
      "cell_type": "code",
      "metadata": {
        "id": "JKFsEaNbb8kc"
      },
      "source": [
        "# filtering empty strings\r\n",
        "collection = list(filter(None, collection))"
      ],
      "execution_count": null,
      "outputs": []
    },
    {
      "cell_type": "code",
      "metadata": {
        "colab": {
          "base_uri": "https://localhost:8080/"
        },
        "id": "fPF5UUzS314v",
        "outputId": "84308fe4-39b5-4c4d-bb51-501610035e0c"
      },
      "source": [
        "len(collection)"
      ],
      "execution_count": null,
      "outputs": [
        {
          "output_type": "execute_result",
          "data": {
            "text/plain": [
              "6880"
            ]
          },
          "metadata": {
            "tags": []
          },
          "execution_count": 135
        }
      ]
    },
    {
      "cell_type": "code",
      "metadata": {
        "colab": {
          "base_uri": "https://localhost:8080/"
        },
        "id": "9sXsemAa3w0t",
        "outputId": "59aa8620-5ae8-4512-e406-b56c4358c4fc"
      },
      "source": [
        "len(collection)"
      ],
      "execution_count": null,
      "outputs": [
        {
          "output_type": "execute_result",
          "data": {
            "text/plain": [
              "7613"
            ]
          },
          "metadata": {
            "tags": []
          },
          "execution_count": 133
        }
      ]
    },
    {
      "cell_type": "code",
      "metadata": {
        "colab": {
          "base_uri": "https://localhost:8080/"
        },
        "id": "pXmrOD-bbLwn",
        "outputId": "8c766fb3-9bef-4de2-819b-25801db973ac"
      },
      "source": [
        "data['atis_flight'].value_counts()"
      ],
      "execution_count": null,
      "outputs": [
        {
          "output_type": "execute_result",
          "data": {
            "text/plain": [
              "atis_flight            3665\n",
              "atis_airfare            423\n",
              "atis_ground_service     255\n",
              "atis_airline            157\n",
              "atis_abbreviation       147\n",
              "atis_aircraft            81\n",
              "atis_flight_time         54\n",
              "atis_quantity            51\n",
              "Name: atis_flight, dtype: int64"
            ]
          },
          "metadata": {
            "tags": []
          },
          "execution_count": 36
        }
      ]
    },
    {
      "cell_type": "code",
      "metadata": {
        "colab": {
          "base_uri": "https://localhost:8080/",
          "height": 283
        },
        "id": "WHAM5_NpZ8HC",
        "outputId": "040adddb-e158-426c-fbc5-74b892ce54fa"
      },
      "source": [
        "import seaborn as s\r\n",
        "plt.bar(data['atis_flight'].unique(),data['atis_flight'].value_counts())"
      ],
      "execution_count": null,
      "outputs": [
        {
          "output_type": "execute_result",
          "data": {
            "text/plain": [
              "<BarContainer object of 8 artists>"
            ]
          },
          "metadata": {
            "tags": []
          },
          "execution_count": 30
        },
        {
          "output_type": "display_data",
          "data": {
            "image/png": "[encoded data removed]",
            "text/plain": [
              "<Figure size 432x288 with 1 Axes>"
            ]
          },
          "metadata": {
            "tags": [],
            "needs_background": "light"
          }
        }
      ]
    },
    {
      "cell_type": "code",
      "metadata": {
        "id": "Sh_QOzMvb8qa"
      },
      "source": [
        "from nltk.stem import PorterStemmer\r\n",
        "from nltk.corpus import stopwords\r\n",
        "from sklearn.feature_extraction.text import TfidfVectorizer"
      ],
      "execution_count": null,
      "outputs": []
    },
    {
      "cell_type": "code",
      "metadata": {
        "colab": {
          "base_uri": "https://localhost:8080/"
        },
        "id": "GKooJNEzb8sk",
        "outputId": "2bf8ffe2-bc0d-40cd-b9bd-c7dc9c7355ff"
      },
      "source": [
        "# loading stop words\r\n",
        "nltk.download('stopwords')\r\n",
        "sw = stopwords.words('english')"
      ],
      "execution_count": null,
      "outputs": [
        {
          "output_type": "stream",
          "text": [
            "[nltk_data] Downloading package stopwords to /root/nltk_data...\n",
            "[nltk_data]   Unzipping corpora/stopwords.zip.\n"
          ],
          "name": "stdout"
        }
      ]
    },
    {
      "cell_type": "code",
      "metadata": {
        "id": "4ilXx--Pb8wh"
      },
      "source": [
        "# stemming words\r\n",
        "\r\n",
        "stemmer = PorterStemmer()\r\n",
        "def tokenizer(keyword):\r\n",
        "    return [stemmer.stem(w) for w in keyword.split(' ')]"
      ],
      "execution_count": null,
      "outputs": []
    },
    {
      "cell_type": "code",
      "metadata": {
        "id": "6cjxGsCBb8yq"
      },
      "source": [
        "# tfidf vectorizer\r\n",
        "\r\n",
        "tfidf = TfidfVectorizer(lowercase = True, tokenizer = tokenizer, stop_words = sw)"
      ],
      "execution_count": null,
      "outputs": []
    },
    {
      "cell_type": "code",
      "metadata": {
        "id": "EtkwLsPGb83O"
      },
      "source": [
        "df = pd.DataFrame(tfidf.fit_transform(data.iloc[:,1]).toarray(), index = data.iloc[:,1], columns = tfidf.get_feature_names())"
      ],
      "execution_count": null,
      "outputs": []
    },
    {
      "cell_type": "code",
      "metadata": {
        "id": "oUSqw9zEdPYN"
      },
      "source": [
        "# function to preprocess data and batch it\r\n",
        "from tensorflow.keras.utils import to_categorical\r\n",
        "\r\n",
        "def pipeline(img,label):\r\n",
        "  label = to_categorical(label)\r\n",
        "  data=tf.data.Dataset.from_tensor_slices((img,label))\r\n",
        "  data=data.shuffle(10000)\r\n",
        "  return data"
      ],
      "execution_count": null,
      "outputs": []
    },
    {
      "cell_type": "code",
      "metadata": {
        "id": "dIDLT61LqwUS"
      },
      "source": [
        "data['atis_flight'] = pd.Categorical(data['atis_flight'])\r\n",
        "data['code'] = data['atis_flight'].cat.codes\r\n",
        "\r\n",
        "from sklearn.model_selection import StratifiedShuffleSplit\r\n",
        "sss = StratifiedShuffleSplit(n_splits = 5, test_size=0.1, random_state=0)\r\n",
        "sss.get_n_splits(df, data['code'])\r\n",
        "for train_idx, test_idx in sss.split(df,data['code']):\r\n",
        "    X_train=df.iloc[train_idx,:]\r\n",
        "    Y_train=data['code'][train_idx]\r\n",
        "    X_valtest=df.iloc[test_idx,:]\r\n",
        "    Y_valtest=data['code'][test_idx]\r\n",
        "\r\n",
        "X_valtest.index = range(0,len(X_valtest))\r\n",
        "Y_valtest.index = range(0,len(Y_valtest))\r\n",
        "sss = StratifiedShuffleSplit(n_splits = 5, test_size=0.4, random_state=1)\r\n",
        "sss.get_n_splits(X_valtest, Y_valtest)\r\n",
        "for i, j in sss.split(X_valtest, Y_valtest):\r\n",
        "  X_val = X_valtest.iloc[i,:]\r\n",
        "  Y_val = Y_valtest[i]\r\n",
        "  X_test = X_valtest.iloc[j,:]\r\n",
        "  Y_test = Y_valtest[j]\r\n"
      ],
      "execution_count": null,
      "outputs": []
    },
    {
      "cell_type": "code",
      "metadata": {
        "id": "2086k0YTw5C-"
      },
      "source": [
        "# running training dataset through the pipeline\r\n",
        "train = pipeline(X_train, Y_train).batch(500)\r\n",
        "validate = pipeline(X_val, Y_val).batch(200)\r\n",
        "test = pipeline(X_test, Y_test).batch(200)"
      ],
      "execution_count": null,
      "outputs": []
    },
    {
      "cell_type": "code",
      "metadata": {
        "id": "wuvf0753frQM"
      },
      "source": [
        "'''data['atis_flight'] = pd.Categorical(data['atis_flight'])\r\n",
        "data['code'] = data['atis_flight'].cat.codes\r\n",
        "\r\n",
        "# running training dataset through the pipeline\r\n",
        "train = pipeline(df[:4200], data['code'][:4200]).batch(500)\r\n",
        "validate = pipeline(df[4200:4600], data['code'][4200:4600]).batch(200)\r\n",
        "test = pipeline(df[4600:4800], data['code'][4600:4800]).batch(200)'''"
      ],
      "execution_count": null,
      "outputs": []
    },
    {
      "cell_type": "code",
      "metadata": {
        "id": "u5g6gdbMgUl4"
      },
      "source": [
        "'''# splitting test data into test and validation data\r\n",
        "validate = train.take(200).batch(200)\r\n",
        "train = train.skip(200)'''"
      ],
      "execution_count": null,
      "outputs": []
    },
    {
      "cell_type": "code",
      "metadata": {
        "colab": {
          "base_uri": "https://localhost:8080/",
          "height": 644
        },
        "id": "6CTxG6vZgdp4",
        "outputId": "e5ffcdb7-1787-4c3d-a3b6-0a0cea1b54c5"
      },
      "source": [
        "# setting up the model\r\n",
        "from tensorflow.keras import models\r\n",
        "from tensorflow.keras import layers\r\n",
        "\r\n",
        "network = models.Sequential([\r\n",
        "    layers.Dense(2000, activation = 'relu', input_shape = (674,)),\r\n",
        "    layers.Dense(500, activation = 'relu'),\r\n",
        "    layers.Dense(100, activation = 'relu'),\r\n",
        "    layers.Dense(50, activation = 'relu'),\r\n",
        "    layers.Dense(8, activation = 'softmax')]\r\n",
        ")\r\n",
        "\r\n",
        "network.compile(optimizer = 'rmsprop',\r\n",
        "                loss = 'categorical_crossentropy',\r\n",
        "                metrics = ['accuracy'])\r\n",
        "\r\n",
        "keras.utils.plot_model(network, show_shapes = True)"
      ],
      "execution_count": null,
      "outputs": [
        {
          "output_type": "execute_result",
          "data": {
            "image/png": "[encoded data removed]",
            "text/plain": [
              "<IPython.core.display.Image object>"
            ]
          },
          "metadata": {
            "tags": []
          },
          "execution_count": 183
        }
      ]
    },
    {
      "cell_type": "code",
      "metadata": {
        "id": "jSoQVXdh1mtS"
      },
      "source": [
        "70:70:45:25:25:15:8:1/259"
      ],
      "execution_count": null,
      "outputs": []
    },
    {
      "cell_type": "code",
      "metadata": {
        "colab": {
          "base_uri": "https://localhost:8080/"
        },
        "id": "JdgQ43sl1u2L",
        "outputId": "5bae4388-938c-4948-f998-5e4529e25b4f"
      },
      "source": [
        "data['code'].value_counts()"
      ],
      "execution_count": null,
      "outputs": [
        {
          "output_type": "execute_result",
          "data": {
            "text/plain": [
              "4    3665\n",
              "2     423\n",
              "6     255\n",
              "3     157\n",
              "0     147\n",
              "1      81\n",
              "5      54\n",
              "7      51\n",
              "Name: code, dtype: int64"
            ]
          },
          "metadata": {
            "tags": []
          },
          "execution_count": 174
        }
      ]
    },
    {
      "cell_type": "code",
      "metadata": {
        "colab": {
          "base_uri": "https://localhost:8080/"
        },
        "id": "5EvLilT5gd9P",
        "outputId": "bf31e404-baf6-4d92-9ce3-0ae76f0233fe"
      },
      "source": [
        "# fitting the model\r\n",
        "from keras.callbacks import EarlyStopping\r\n",
        "#init_weights = network.get_weights()\r\n",
        "class_weight = {7:70/259,\r\n",
        "                5:70/259,\r\n",
        "                1:45/259,\r\n",
        "                0:25/259,\r\n",
        "                3:25/259,\r\n",
        "                6:15/259,\r\n",
        "                2:8/259,\r\n",
        "                4:1/259}\r\n",
        "es = EarlyStopping(monitor='val_loss', mode='min', verbose=1, patience=30)\r\n",
        "info = network.fit(train, validation_data = validate, epochs = 100, verbose =1, class_weight = class_weight)"
      ],
      "execution_count": null,
      "outputs": [
        {
          "output_type": "stream",
          "text": [
            "Epoch 1/100\n",
            "9/9 [==============================] - 2s 151ms/step - loss: 0.0463 - accuracy: 0.0579 - val_loss: 2.7157 - val_accuracy: 0.1103\n",
            "Epoch 2/100\n",
            "9/9 [==============================] - 1s 132ms/step - loss: 0.0237 - accuracy: 0.4458 - val_loss: 0.4814 - val_accuracy: 0.9345\n",
            "Epoch 3/100\n",
            "9/9 [==============================] - 1s 132ms/step - loss: 0.0055 - accuracy: 0.9073 - val_loss: 0.3500 - val_accuracy: 0.9172\n",
            "Epoch 4/100\n",
            "9/9 [==============================] - 1s 129ms/step - loss: 0.0022 - accuracy: 0.9505 - val_loss: 0.3398 - val_accuracy: 0.9379\n",
            "Epoch 5/100\n",
            "9/9 [==============================] - 1s 132ms/step - loss: 0.0017 - accuracy: 0.9531 - val_loss: 0.2564 - val_accuracy: 0.9414\n",
            "Epoch 6/100\n",
            "9/9 [==============================] - 1s 129ms/step - loss: 0.0010 - accuracy: 0.9680 - val_loss: 0.0847 - val_accuracy: 0.9828\n",
            "Epoch 7/100\n",
            "9/9 [==============================] - 1s 131ms/step - loss: 5.4449e-04 - accuracy: 0.9823 - val_loss: 0.1389 - val_accuracy: 0.9483\n",
            "Epoch 8/100\n",
            "9/9 [==============================] - 1s 131ms/step - loss: 0.0020 - accuracy: 0.9062 - val_loss: 0.0721 - val_accuracy: 0.9759\n",
            "Epoch 9/100\n",
            "9/9 [==============================] - 1s 131ms/step - loss: 3.3690e-04 - accuracy: 0.9877 - val_loss: 0.0734 - val_accuracy: 0.9828\n",
            "Epoch 10/100\n",
            "9/9 [==============================] - 1s 133ms/step - loss: 5.3335e-04 - accuracy: 0.9801 - val_loss: 0.0674 - val_accuracy: 0.9828\n",
            "Epoch 11/100\n",
            "9/9 [==============================] - 1s 131ms/step - loss: 1.9909e-04 - accuracy: 0.9910 - val_loss: 0.0747 - val_accuracy: 0.9759\n",
            "Epoch 12/100\n",
            "9/9 [==============================] - 1s 132ms/step - loss: 1.7906e-04 - accuracy: 0.9907 - val_loss: 0.0815 - val_accuracy: 0.9690\n",
            "Epoch 13/100\n",
            "9/9 [==============================] - 1s 132ms/step - loss: 5.6911e-04 - accuracy: 0.9888 - val_loss: 0.0989 - val_accuracy: 0.9655\n",
            "Epoch 14/100\n",
            "9/9 [==============================] - 1s 130ms/step - loss: 1.6607e-04 - accuracy: 0.9947 - val_loss: 0.2613 - val_accuracy: 0.9276\n",
            "Epoch 15/100\n",
            "9/9 [==============================] - 1s 132ms/step - loss: 0.0017 - accuracy: 0.9562 - val_loss: 0.0777 - val_accuracy: 0.9862\n",
            "Epoch 16/100\n",
            "9/9 [==============================] - 1s 132ms/step - loss: 1.1884e-04 - accuracy: 0.9936 - val_loss: 0.0784 - val_accuracy: 0.9828\n",
            "Epoch 17/100\n",
            "9/9 [==============================] - 1s 133ms/step - loss: 1.0751e-04 - accuracy: 0.9950 - val_loss: 0.0783 - val_accuracy: 0.9793\n",
            "Epoch 18/100\n",
            "9/9 [==============================] - 1s 130ms/step - loss: 6.9691e-05 - accuracy: 0.9967 - val_loss: 0.0725 - val_accuracy: 0.9862\n",
            "Epoch 19/100\n",
            "9/9 [==============================] - 1s 136ms/step - loss: 9.9164e-05 - accuracy: 0.9956 - val_loss: 0.0700 - val_accuracy: 0.9828\n",
            "Epoch 20/100\n",
            "9/9 [==============================] - 1s 136ms/step - loss: 1.0333e-04 - accuracy: 0.9960 - val_loss: 0.0719 - val_accuracy: 0.9897\n",
            "Epoch 21/100\n",
            "9/9 [==============================] - 1s 131ms/step - loss: 1.5898e-04 - accuracy: 0.9926 - val_loss: 0.0790 - val_accuracy: 0.9862\n",
            "Epoch 22/100\n",
            "9/9 [==============================] - 1s 150ms/step - loss: 1.0181e-04 - accuracy: 0.9930 - val_loss: 0.0650 - val_accuracy: 0.9828\n",
            "Epoch 23/100\n",
            "9/9 [==============================] - 1s 133ms/step - loss: 3.8711e-05 - accuracy: 0.9981 - val_loss: 0.0769 - val_accuracy: 0.9828\n",
            "Epoch 24/100\n",
            "9/9 [==============================] - 1s 130ms/step - loss: 2.7069e-05 - accuracy: 0.9985 - val_loss: 0.0638 - val_accuracy: 0.9828\n",
            "Epoch 25/100\n",
            "9/9 [==============================] - 1s 132ms/step - loss: 6.2006e-05 - accuracy: 0.9961 - val_loss: 0.0915 - val_accuracy: 0.9793\n",
            "Epoch 26/100\n",
            "9/9 [==============================] - 1s 134ms/step - loss: 4.9535e-05 - accuracy: 0.9974 - val_loss: 0.0864 - val_accuracy: 0.9793\n",
            "Epoch 27/100\n",
            "9/9 [==============================] - 1s 135ms/step - loss: 2.4234e-05 - accuracy: 0.9987 - val_loss: 0.0755 - val_accuracy: 0.9862\n",
            "Epoch 28/100\n",
            "9/9 [==============================] - 1s 133ms/step - loss: 2.1424e-05 - accuracy: 0.9985 - val_loss: 0.0765 - val_accuracy: 0.9793\n",
            "Epoch 29/100\n",
            "9/9 [==============================] - 1s 136ms/step - loss: 6.2312e-05 - accuracy: 0.9966 - val_loss: 0.0892 - val_accuracy: 0.9759\n",
            "Epoch 30/100\n",
            "9/9 [==============================] - 1s 135ms/step - loss: 2.5396e-05 - accuracy: 0.9986 - val_loss: 0.0773 - val_accuracy: 0.9897\n",
            "Epoch 31/100\n",
            "9/9 [==============================] - 1s 135ms/step - loss: 3.6471e-05 - accuracy: 0.9978 - val_loss: 0.0808 - val_accuracy: 0.9793\n",
            "Epoch 32/100\n",
            "9/9 [==============================] - 1s 133ms/step - loss: 6.2300e-05 - accuracy: 0.9965 - val_loss: 0.3139 - val_accuracy: 0.9000\n",
            "Epoch 33/100\n",
            "9/9 [==============================] - 1s 132ms/step - loss: 3.4293e-04 - accuracy: 0.9813 - val_loss: 0.0736 - val_accuracy: 0.9793\n",
            "Epoch 34/100\n",
            "9/9 [==============================] - 1s 132ms/step - loss: 2.6513e-05 - accuracy: 0.9987 - val_loss: 0.0780 - val_accuracy: 0.9793\n",
            "Epoch 35/100\n",
            "9/9 [==============================] - 1s 134ms/step - loss: 6.6187e-06 - accuracy: 0.9996 - val_loss: 0.0804 - val_accuracy: 0.9793\n",
            "Epoch 36/100\n",
            "9/9 [==============================] - 1s 131ms/step - loss: 3.1392e-05 - accuracy: 0.9984 - val_loss: 0.0722 - val_accuracy: 0.9793\n",
            "Epoch 37/100\n",
            "9/9 [==============================] - 1s 134ms/step - loss: 1.3947e-05 - accuracy: 0.9993 - val_loss: 0.0782 - val_accuracy: 0.9828\n",
            "Epoch 38/100\n",
            "9/9 [==============================] - 1s 130ms/step - loss: 9.4979e-06 - accuracy: 0.9993 - val_loss: 0.0677 - val_accuracy: 0.9828\n",
            "Epoch 39/100\n",
            "9/9 [==============================] - 1s 132ms/step - loss: 1.7195e-05 - accuracy: 0.9991 - val_loss: 0.2526 - val_accuracy: 0.9379\n",
            "Epoch 40/100\n",
            "9/9 [==============================] - 1s 134ms/step - loss: 6.6823e-04 - accuracy: 0.9826 - val_loss: 0.0611 - val_accuracy: 0.9862\n",
            "Epoch 41/100\n",
            "9/9 [==============================] - 1s 132ms/step - loss: 2.6701e-05 - accuracy: 0.9990 - val_loss: 0.0665 - val_accuracy: 0.9828\n",
            "Epoch 42/100\n",
            "9/9 [==============================] - 1s 130ms/step - loss: 1.3895e-05 - accuracy: 0.9993 - val_loss: 0.0681 - val_accuracy: 0.9793\n",
            "Epoch 43/100\n",
            "9/9 [==============================] - 1s 133ms/step - loss: 8.5760e-06 - accuracy: 0.9997 - val_loss: 0.0928 - val_accuracy: 0.9897\n",
            "Epoch 44/100\n",
            "9/9 [==============================] - 1s 134ms/step - loss: 2.8193e-05 - accuracy: 0.9990 - val_loss: 0.0794 - val_accuracy: 0.9828\n",
            "Epoch 45/100\n",
            "9/9 [==============================] - 1s 133ms/step - loss: 7.9796e-06 - accuracy: 0.9992 - val_loss: 0.0770 - val_accuracy: 0.9828\n",
            "Epoch 46/100\n",
            "9/9 [==============================] - 1s 131ms/step - loss: 5.3025e-06 - accuracy: 0.9998 - val_loss: 0.1148 - val_accuracy: 0.9621\n",
            "Epoch 47/100\n",
            "9/9 [==============================] - 1s 131ms/step - loss: 3.8385e-05 - accuracy: 0.9966 - val_loss: 0.0791 - val_accuracy: 0.9793\n",
            "Epoch 48/100\n",
            "9/9 [==============================] - 1s 133ms/step - loss: 1.2341e-05 - accuracy: 0.9993 - val_loss: 0.0837 - val_accuracy: 0.9828\n",
            "Epoch 49/100\n",
            "9/9 [==============================] - 1s 135ms/step - loss: 6.8542e-06 - accuracy: 0.9994 - val_loss: 0.0813 - val_accuracy: 0.9793\n",
            "Epoch 50/100\n",
            "9/9 [==============================] - 1s 134ms/step - loss: 1.3238e-05 - accuracy: 0.9998 - val_loss: 0.0781 - val_accuracy: 0.9828\n",
            "Epoch 51/100\n",
            "9/9 [==============================] - 1s 135ms/step - loss: 3.3376e-06 - accuracy: 0.9999 - val_loss: 0.0826 - val_accuracy: 0.9828\n",
            "Epoch 52/100\n",
            "9/9 [==============================] - 1s 140ms/step - loss: 4.4540e-05 - accuracy: 0.9988 - val_loss: 0.0822 - val_accuracy: 0.9828\n",
            "Epoch 53/100\n",
            "9/9 [==============================] - 1s 135ms/step - loss: 9.5965e-04 - accuracy: 0.9800 - val_loss: 0.0656 - val_accuracy: 0.9793\n",
            "Epoch 54/100\n",
            "9/9 [==============================] - 1s 136ms/step - loss: 1.2069e-05 - accuracy: 0.9989 - val_loss: 0.0705 - val_accuracy: 0.9793\n",
            "Epoch 55/100\n",
            "9/9 [==============================] - 1s 137ms/step - loss: 4.5407e-06 - accuracy: 0.9998 - val_loss: 0.0675 - val_accuracy: 0.9828\n",
            "Epoch 56/100\n",
            "9/9 [==============================] - 1s 137ms/step - loss: 1.4757e-05 - accuracy: 0.9994 - val_loss: 0.0667 - val_accuracy: 0.9828\n",
            "Epoch 57/100\n",
            "9/9 [==============================] - 1s 134ms/step - loss: 2.0607e-06 - accuracy: 1.0000 - val_loss: 0.0702 - val_accuracy: 0.9828\n",
            "Epoch 58/100\n",
            "9/9 [==============================] - 1s 140ms/step - loss: 6.1944e-06 - accuracy: 0.9997 - val_loss: 0.0699 - val_accuracy: 0.9862\n",
            "Epoch 59/100\n",
            "9/9 [==============================] - 1s 137ms/step - loss: 5.7683e-06 - accuracy: 0.9998 - val_loss: 0.0783 - val_accuracy: 0.9828\n",
            "Epoch 60/100\n",
            "9/9 [==============================] - 1s 136ms/step - loss: 6.4081e-06 - accuracy: 0.9998 - val_loss: 0.0709 - val_accuracy: 0.9828\n",
            "Epoch 61/100\n",
            "9/9 [==============================] - 1s 139ms/step - loss: 2.1480e-05 - accuracy: 0.9989 - val_loss: 0.0719 - val_accuracy: 0.9828\n",
            "Epoch 62/100\n",
            "9/9 [==============================] - 1s 140ms/step - loss: 5.0260e-06 - accuracy: 0.9998 - val_loss: 0.0753 - val_accuracy: 0.9828\n",
            "Epoch 63/100\n",
            "9/9 [==============================] - 1s 143ms/step - loss: 9.5574e-06 - accuracy: 0.9994 - val_loss: 0.0769 - val_accuracy: 0.9828\n",
            "Epoch 64/100\n",
            "9/9 [==============================] - 1s 136ms/step - loss: 4.0931e-06 - accuracy: 0.9998 - val_loss: 0.0648 - val_accuracy: 0.9862\n",
            "Epoch 65/100\n",
            "9/9 [==============================] - 1s 137ms/step - loss: 9.9451e-06 - accuracy: 0.9995 - val_loss: 0.0487 - val_accuracy: 0.9897\n",
            "Epoch 66/100\n",
            "9/9 [==============================] - 1s 156ms/step - loss: 1.9570e-05 - accuracy: 0.9994 - val_loss: 0.1151 - val_accuracy: 0.9793\n",
            "Epoch 67/100\n",
            "9/9 [==============================] - 1s 136ms/step - loss: 8.6228e-06 - accuracy: 0.9997 - val_loss: 0.0996 - val_accuracy: 0.9793\n",
            "Epoch 68/100\n",
            "9/9 [==============================] - 1s 138ms/step - loss: 5.9927e-06 - accuracy: 0.9996 - val_loss: 0.0939 - val_accuracy: 0.9793\n",
            "Epoch 69/100\n",
            "9/9 [==============================] - 1s 136ms/step - loss: 6.0273e-06 - accuracy: 0.9997 - val_loss: 0.0945 - val_accuracy: 0.9828\n",
            "Epoch 70/100\n",
            "9/9 [==============================] - 1s 135ms/step - loss: 5.0068e-06 - accuracy: 0.9998 - val_loss: 0.0930 - val_accuracy: 0.9828\n",
            "Epoch 71/100\n",
            "9/9 [==============================] - 1s 135ms/step - loss: 4.4430e-06 - accuracy: 0.9998 - val_loss: 0.0926 - val_accuracy: 0.9828\n",
            "Epoch 72/100\n",
            "9/9 [==============================] - 1s 136ms/step - loss: 6.5907e-06 - accuracy: 0.9996 - val_loss: 0.0900 - val_accuracy: 0.9828\n",
            "Epoch 73/100\n",
            "9/9 [==============================] - 1s 139ms/step - loss: 2.8568e-06 - accuracy: 0.9999 - val_loss: 0.0933 - val_accuracy: 0.9828\n",
            "Epoch 74/100\n",
            "9/9 [==============================] - 1s 140ms/step - loss: 3.5339e-06 - accuracy: 0.9999 - val_loss: 0.0931 - val_accuracy: 0.9828\n",
            "Epoch 75/100\n",
            "9/9 [==============================] - 1s 140ms/step - loss: 7.9946e-06 - accuracy: 0.9993 - val_loss: 0.0938 - val_accuracy: 0.9793\n",
            "Epoch 76/100\n",
            "9/9 [==============================] - 1s 140ms/step - loss: 1.2416e-04 - accuracy: 0.9964 - val_loss: 0.0940 - val_accuracy: 0.9793\n",
            "Epoch 77/100\n",
            "9/9 [==============================] - 1s 147ms/step - loss: 3.1685e-06 - accuracy: 0.9997 - val_loss: 0.0902 - val_accuracy: 0.9793\n",
            "Epoch 78/100\n",
            "9/9 [==============================] - 1s 141ms/step - loss: 7.5634e-06 - accuracy: 0.9994 - val_loss: 0.0902 - val_accuracy: 0.9793\n",
            "Epoch 79/100\n",
            "9/9 [==============================] - 1s 137ms/step - loss: 2.0251e-06 - accuracy: 0.9999 - val_loss: 0.0899 - val_accuracy: 0.9793\n",
            "Epoch 80/100\n",
            "9/9 [==============================] - 1s 137ms/step - loss: 4.8775e-06 - accuracy: 0.9997 - val_loss: 0.0839 - val_accuracy: 0.9828\n",
            "Epoch 81/100\n",
            "9/9 [==============================] - 1s 138ms/step - loss: 1.2078e-06 - accuracy: 1.0000 - val_loss: 0.0948 - val_accuracy: 0.9793\n",
            "Epoch 82/100\n",
            "9/9 [==============================] - 1s 137ms/step - loss: 5.0022e-06 - accuracy: 0.9998 - val_loss: 0.0829 - val_accuracy: 0.9828\n",
            "Epoch 83/100\n",
            "9/9 [==============================] - 1s 136ms/step - loss: 6.1573e-06 - accuracy: 0.9997 - val_loss: 0.1793 - val_accuracy: 0.9517\n",
            "Epoch 84/100\n",
            "9/9 [==============================] - 1s 136ms/step - loss: 4.4137e-05 - accuracy: 0.9981 - val_loss: 0.0898 - val_accuracy: 0.9793\n",
            "Epoch 85/100\n",
            "9/9 [==============================] - 1s 140ms/step - loss: 3.3969e-06 - accuracy: 0.9998 - val_loss: 0.0893 - val_accuracy: 0.9793\n",
            "Epoch 86/100\n",
            "9/9 [==============================] - 1s 138ms/step - loss: 1.2529e-06 - accuracy: 1.0000 - val_loss: 0.0835 - val_accuracy: 0.9828\n",
            "Epoch 87/100\n",
            "9/9 [==============================] - 1s 139ms/step - loss: 7.4995e-07 - accuracy: 1.0000 - val_loss: 0.0813 - val_accuracy: 0.9828\n",
            "Epoch 88/100\n",
            "9/9 [==============================] - 1s 136ms/step - loss: 5.9268e-06 - accuracy: 0.9994 - val_loss: 0.0812 - val_accuracy: 0.9862\n",
            "Epoch 89/100\n",
            "9/9 [==============================] - 1s 136ms/step - loss: 6.0148e-06 - accuracy: 0.9996 - val_loss: 0.0811 - val_accuracy: 0.9828\n",
            "Epoch 90/100\n",
            "9/9 [==============================] - 1s 137ms/step - loss: 3.3444e-06 - accuracy: 0.9998 - val_loss: 0.0796 - val_accuracy: 0.9828\n",
            "Epoch 91/100\n",
            "9/9 [==============================] - 1s 136ms/step - loss: 1.0034e-06 - accuracy: 1.0000 - val_loss: 0.0867 - val_accuracy: 0.9759\n",
            "Epoch 92/100\n",
            "9/9 [==============================] - 1s 134ms/step - loss: 3.3229e-05 - accuracy: 0.9982 - val_loss: 0.0709 - val_accuracy: 0.9862\n",
            "Epoch 93/100\n",
            "9/9 [==============================] - 1s 137ms/step - loss: 7.5413e-06 - accuracy: 0.9996 - val_loss: 0.0718 - val_accuracy: 0.9828\n",
            "Epoch 94/100\n",
            "9/9 [==============================] - 1s 135ms/step - loss: 5.4716e-06 - accuracy: 0.9996 - val_loss: 0.1020 - val_accuracy: 0.9759\n",
            "Epoch 95/100\n",
            "9/9 [==============================] - 1s 136ms/step - loss: 6.6986e-06 - accuracy: 0.9998 - val_loss: 0.0821 - val_accuracy: 0.9828\n",
            "Epoch 96/100\n",
            "9/9 [==============================] - 1s 135ms/step - loss: 6.2437e-06 - accuracy: 0.9996 - val_loss: 0.0792 - val_accuracy: 0.9828\n",
            "Epoch 97/100\n",
            "9/9 [==============================] - 1s 135ms/step - loss: 2.3936e-06 - accuracy: 0.9998 - val_loss: 0.0780 - val_accuracy: 0.9828\n",
            "Epoch 98/100\n",
            "9/9 [==============================] - 1s 134ms/step - loss: 1.7595e-06 - accuracy: 0.9999 - val_loss: 0.0757 - val_accuracy: 0.9828\n",
            "Epoch 99/100\n",
            "9/9 [==============================] - 1s 137ms/step - loss: 2.8947e-06 - accuracy: 0.9999 - val_loss: 0.0751 - val_accuracy: 0.9828\n",
            "Epoch 100/100\n",
            "9/9 [==============================] - 1s 154ms/step - loss: 2.0274e-06 - accuracy: 0.9999 - val_loss: 0.0759 - val_accuracy: 0.9828\n"
          ],
          "name": "stdout"
        }
      ]
    },
    {
      "cell_type": "code",
      "metadata": {
        "id": "-egZVvF1geAg",
        "colab": {
          "base_uri": "https://localhost:8080/"
        },
        "outputId": "69bec725-e2a4-487c-b3e8-7eddd4190656"
      },
      "source": [
        "network.evaluate(test)"
      ],
      "execution_count": null,
      "outputs": [
        {
          "output_type": "stream",
          "text": [
            "1/1 [==============================] - 0s 37ms/step - loss: 0.0885 - accuracy: 0.9794\n"
          ],
          "name": "stdout"
        },
        {
          "output_type": "execute_result",
          "data": {
            "text/plain": [
              "[0.08850158751010895, 0.9793814420700073]"
            ]
          },
          "metadata": {
            "tags": []
          },
          "execution_count": 185
        }
      ]
    }
  ]
}